{
  "nbformat": 4,
  "nbformat_minor": 0,
  "metadata": {
    "colab": {
      "name": "CIS 192 Final Project - Ciara Brown & Abhi Motgi.ipynb",
      "version": "0.3.2",
      "provenance": [],
      "collapsed_sections": [],
      "toc_visible": true,
      "include_colab_link": true
    },
    "kernelspec": {
      "name": "python3",
      "display_name": "Python 3"
    },
    "accelerator": "GPU"
  },
  "cells": [
    {
      "cell_type": "markdown",
      "metadata": {
        "id": "view-in-github",
        "colab_type": "text"
      },
      "source": [
        "<a href=\"https://colab.research.google.com/github/apmotgi16/NYGroceryPlacement/blob/master/NYGroceryPlacement.ipynb\" target=\"_parent\"><img src=\"https://colab.research.google.com/assets/colab-badge.svg\" alt=\"Open In Colab\"/></a>"
      ]
    },
    {
      "metadata": {
        "id": "3GzJcIx16LqE",
        "colab_type": "text"
      },
      "cell_type": "markdown",
      "source": [
        "# CIS 192 Final Project\n",
        "## *Abhi Motgi & Ciara Brown*\n",
        "Computing the ideal locations of 190 grocery stores in New York City based on population demand"
      ]
    },
    {
      "metadata": {
        "id": "yqV4zYB96fyQ",
        "colab_type": "text"
      },
      "cell_type": "markdown",
      "source": [
        "## 1. Loading & Preparing Datasets\n",
        "The main datasets we used are:\n",
        "\n",
        "*   NYC Retail Food Stores.csv - contains 22,000+ rows of food stores in New York State\n",
        "*  NYC Retail Food Stores COORDINATES.csv - contains geocoded latitude and longitudes of NYC stores\n",
        "*  New_York_City_Population_By_Census_Tracts.csv - contains 2010 census data with population and tracts\n",
        "*  2017_ny_tracts.csv - contains FIPS codes / counties and tracts for computing lat & long of population points\n",
        "\n",
        "\n"
      ]
    },
    {
      "metadata": {
        "id": "dTW-psPS7k-d",
        "colab_type": "text"
      },
      "cell_type": "markdown",
      "source": [
        "### 1a. Importing Data"
      ]
    },
    {
      "metadata": {
        "id": "ytZ7v6ms7iTR",
        "colab_type": "code",
        "outputId": "3125084a-5474-44a0-ec41-f082420f553d",
        "colab": {
          "base_uri": "https://localhost:8080/",
          "height": 915
        }
      },
      "cell_type": "code",
      "source": [
        "import pandas as pd\n",
        "import numpy as np\n",
        "import matplotlib.pyplot as plt\n",
        "\n",
        "stores = pd.read_csv('NYC Retail Food Stores COORDINATES.csv')\n",
        "store_list = stores[['LAT', 'LONG']].values.T.tolist()\n",
        "\n",
        "population = pd.read_csv('New_York_City_Population_By_Census_Tracts.csv', skiprows=0)\n",
        "ny_coords = pd.read_csv('2017_ny_tracts.csv', skiprows=0)\n",
        "\n",
        "#merge datasets on GEOID (fips code)\n",
        "big_pop = pd.merge(population, ny_coords, on='GEOID', how='inner')\n",
        "\n",
        "#select pop & coordinates into list\n",
        "pop_list = big_pop[['Population', 'INTPTLAT', 'INTPTLONG']].values.T.tolist()"
      ],
      "execution_count": 0,
      "outputs": [
        {
          "output_type": "error",
          "ename": "FileNotFoundError",
          "evalue": "ignored",
          "traceback": [
            "\u001b[0;31m---------------------------------------------------------------------------\u001b[0m",
            "\u001b[0;31mFileNotFoundError\u001b[0m                         Traceback (most recent call last)",
            "\u001b[0;32m<ipython-input-2-f839adf9f3e9>\u001b[0m in \u001b[0;36m<module>\u001b[0;34m()\u001b[0m\n\u001b[1;32m      3\u001b[0m \u001b[0;32mimport\u001b[0m \u001b[0mmatplotlib\u001b[0m\u001b[0;34m.\u001b[0m\u001b[0mpyplot\u001b[0m \u001b[0;32mas\u001b[0m \u001b[0mplt\u001b[0m\u001b[0;34m\u001b[0m\u001b[0;34m\u001b[0m\u001b[0m\n\u001b[1;32m      4\u001b[0m \u001b[0;34m\u001b[0m\u001b[0m\n\u001b[0;32m----> 5\u001b[0;31m \u001b[0mstores\u001b[0m \u001b[0;34m=\u001b[0m \u001b[0mpd\u001b[0m\u001b[0;34m.\u001b[0m\u001b[0mread_csv\u001b[0m\u001b[0;34m(\u001b[0m\u001b[0;34m'NYC Retail Food Stores COORDINATES.csv'\u001b[0m\u001b[0;34m)\u001b[0m\u001b[0;34m\u001b[0m\u001b[0;34m\u001b[0m\u001b[0m\n\u001b[0m\u001b[1;32m      6\u001b[0m \u001b[0mstore_list\u001b[0m \u001b[0;34m=\u001b[0m \u001b[0mstores\u001b[0m\u001b[0;34m[\u001b[0m\u001b[0;34m[\u001b[0m\u001b[0;34m'LAT'\u001b[0m\u001b[0;34m,\u001b[0m \u001b[0;34m'LONG'\u001b[0m\u001b[0;34m]\u001b[0m\u001b[0;34m]\u001b[0m\u001b[0;34m.\u001b[0m\u001b[0mvalues\u001b[0m\u001b[0;34m.\u001b[0m\u001b[0mT\u001b[0m\u001b[0;34m.\u001b[0m\u001b[0mtolist\u001b[0m\u001b[0;34m(\u001b[0m\u001b[0;34m)\u001b[0m\u001b[0;34m\u001b[0m\u001b[0;34m\u001b[0m\u001b[0m\n\u001b[1;32m      7\u001b[0m \u001b[0;34m\u001b[0m\u001b[0m\n",
            "\u001b[0;32m/usr/local/lib/python3.6/dist-packages/pandas/io/parsers.py\u001b[0m in \u001b[0;36mparser_f\u001b[0;34m(filepath_or_buffer, sep, delimiter, header, names, index_col, usecols, squeeze, prefix, mangle_dupe_cols, dtype, engine, converters, true_values, false_values, skipinitialspace, skiprows, nrows, na_values, keep_default_na, na_filter, verbose, skip_blank_lines, parse_dates, infer_datetime_format, keep_date_col, date_parser, dayfirst, iterator, chunksize, compression, thousands, decimal, lineterminator, quotechar, quoting, escapechar, comment, encoding, dialect, tupleize_cols, error_bad_lines, warn_bad_lines, skipfooter, skip_footer, doublequote, delim_whitespace, as_recarray, compact_ints, use_unsigned, low_memory, buffer_lines, memory_map, float_precision)\u001b[0m\n\u001b[1;32m    707\u001b[0m                     skip_blank_lines=skip_blank_lines)\n\u001b[1;32m    708\u001b[0m \u001b[0;34m\u001b[0m\u001b[0m\n\u001b[0;32m--> 709\u001b[0;31m         \u001b[0;32mreturn\u001b[0m \u001b[0m_read\u001b[0m\u001b[0;34m(\u001b[0m\u001b[0mfilepath_or_buffer\u001b[0m\u001b[0;34m,\u001b[0m \u001b[0mkwds\u001b[0m\u001b[0;34m)\u001b[0m\u001b[0;34m\u001b[0m\u001b[0;34m\u001b[0m\u001b[0m\n\u001b[0m\u001b[1;32m    710\u001b[0m \u001b[0;34m\u001b[0m\u001b[0m\n\u001b[1;32m    711\u001b[0m     \u001b[0mparser_f\u001b[0m\u001b[0;34m.\u001b[0m\u001b[0m__name__\u001b[0m \u001b[0;34m=\u001b[0m \u001b[0mname\u001b[0m\u001b[0;34m\u001b[0m\u001b[0;34m\u001b[0m\u001b[0m\n",
            "\u001b[0;32m/usr/local/lib/python3.6/dist-packages/pandas/io/parsers.py\u001b[0m in \u001b[0;36m_read\u001b[0;34m(filepath_or_buffer, kwds)\u001b[0m\n\u001b[1;32m    447\u001b[0m \u001b[0;34m\u001b[0m\u001b[0m\n\u001b[1;32m    448\u001b[0m     \u001b[0;31m# Create the parser.\u001b[0m\u001b[0;34m\u001b[0m\u001b[0;34m\u001b[0m\u001b[0;34m\u001b[0m\u001b[0m\n\u001b[0;32m--> 449\u001b[0;31m     \u001b[0mparser\u001b[0m \u001b[0;34m=\u001b[0m \u001b[0mTextFileReader\u001b[0m\u001b[0;34m(\u001b[0m\u001b[0mfilepath_or_buffer\u001b[0m\u001b[0;34m,\u001b[0m \u001b[0;34m**\u001b[0m\u001b[0mkwds\u001b[0m\u001b[0;34m)\u001b[0m\u001b[0;34m\u001b[0m\u001b[0;34m\u001b[0m\u001b[0m\n\u001b[0m\u001b[1;32m    450\u001b[0m \u001b[0;34m\u001b[0m\u001b[0m\n\u001b[1;32m    451\u001b[0m     \u001b[0;32mif\u001b[0m \u001b[0mchunksize\u001b[0m \u001b[0;32mor\u001b[0m \u001b[0miterator\u001b[0m\u001b[0;34m:\u001b[0m\u001b[0;34m\u001b[0m\u001b[0;34m\u001b[0m\u001b[0m\n",
            "\u001b[0;32m/usr/local/lib/python3.6/dist-packages/pandas/io/parsers.py\u001b[0m in \u001b[0;36m__init__\u001b[0;34m(self, f, engine, **kwds)\u001b[0m\n\u001b[1;32m    816\u001b[0m             \u001b[0mself\u001b[0m\u001b[0;34m.\u001b[0m\u001b[0moptions\u001b[0m\u001b[0;34m[\u001b[0m\u001b[0;34m'has_index_names'\u001b[0m\u001b[0;34m]\u001b[0m \u001b[0;34m=\u001b[0m \u001b[0mkwds\u001b[0m\u001b[0;34m[\u001b[0m\u001b[0;34m'has_index_names'\u001b[0m\u001b[0;34m]\u001b[0m\u001b[0;34m\u001b[0m\u001b[0;34m\u001b[0m\u001b[0m\n\u001b[1;32m    817\u001b[0m \u001b[0;34m\u001b[0m\u001b[0m\n\u001b[0;32m--> 818\u001b[0;31m         \u001b[0mself\u001b[0m\u001b[0;34m.\u001b[0m\u001b[0m_make_engine\u001b[0m\u001b[0;34m(\u001b[0m\u001b[0mself\u001b[0m\u001b[0;34m.\u001b[0m\u001b[0mengine\u001b[0m\u001b[0;34m)\u001b[0m\u001b[0;34m\u001b[0m\u001b[0;34m\u001b[0m\u001b[0m\n\u001b[0m\u001b[1;32m    819\u001b[0m \u001b[0;34m\u001b[0m\u001b[0m\n\u001b[1;32m    820\u001b[0m     \u001b[0;32mdef\u001b[0m \u001b[0mclose\u001b[0m\u001b[0;34m(\u001b[0m\u001b[0mself\u001b[0m\u001b[0;34m)\u001b[0m\u001b[0;34m:\u001b[0m\u001b[0;34m\u001b[0m\u001b[0;34m\u001b[0m\u001b[0m\n",
            "\u001b[0;32m/usr/local/lib/python3.6/dist-packages/pandas/io/parsers.py\u001b[0m in \u001b[0;36m_make_engine\u001b[0;34m(self, engine)\u001b[0m\n\u001b[1;32m   1047\u001b[0m     \u001b[0;32mdef\u001b[0m \u001b[0m_make_engine\u001b[0m\u001b[0;34m(\u001b[0m\u001b[0mself\u001b[0m\u001b[0;34m,\u001b[0m \u001b[0mengine\u001b[0m\u001b[0;34m=\u001b[0m\u001b[0;34m'c'\u001b[0m\u001b[0;34m)\u001b[0m\u001b[0;34m:\u001b[0m\u001b[0;34m\u001b[0m\u001b[0;34m\u001b[0m\u001b[0m\n\u001b[1;32m   1048\u001b[0m         \u001b[0;32mif\u001b[0m \u001b[0mengine\u001b[0m \u001b[0;34m==\u001b[0m \u001b[0;34m'c'\u001b[0m\u001b[0;34m:\u001b[0m\u001b[0;34m\u001b[0m\u001b[0;34m\u001b[0m\u001b[0m\n\u001b[0;32m-> 1049\u001b[0;31m             \u001b[0mself\u001b[0m\u001b[0;34m.\u001b[0m\u001b[0m_engine\u001b[0m \u001b[0;34m=\u001b[0m \u001b[0mCParserWrapper\u001b[0m\u001b[0;34m(\u001b[0m\u001b[0mself\u001b[0m\u001b[0;34m.\u001b[0m\u001b[0mf\u001b[0m\u001b[0;34m,\u001b[0m \u001b[0;34m**\u001b[0m\u001b[0mself\u001b[0m\u001b[0;34m.\u001b[0m\u001b[0moptions\u001b[0m\u001b[0;34m)\u001b[0m\u001b[0;34m\u001b[0m\u001b[0;34m\u001b[0m\u001b[0m\n\u001b[0m\u001b[1;32m   1050\u001b[0m         \u001b[0;32melse\u001b[0m\u001b[0;34m:\u001b[0m\u001b[0;34m\u001b[0m\u001b[0;34m\u001b[0m\u001b[0m\n\u001b[1;32m   1051\u001b[0m             \u001b[0;32mif\u001b[0m \u001b[0mengine\u001b[0m \u001b[0;34m==\u001b[0m \u001b[0;34m'python'\u001b[0m\u001b[0;34m:\u001b[0m\u001b[0;34m\u001b[0m\u001b[0;34m\u001b[0m\u001b[0m\n",
            "\u001b[0;32m/usr/local/lib/python3.6/dist-packages/pandas/io/parsers.py\u001b[0m in \u001b[0;36m__init__\u001b[0;34m(self, src, **kwds)\u001b[0m\n\u001b[1;32m   1693\u001b[0m         \u001b[0mkwds\u001b[0m\u001b[0;34m[\u001b[0m\u001b[0;34m'allow_leading_cols'\u001b[0m\u001b[0;34m]\u001b[0m \u001b[0;34m=\u001b[0m \u001b[0mself\u001b[0m\u001b[0;34m.\u001b[0m\u001b[0mindex_col\u001b[0m \u001b[0;32mis\u001b[0m \u001b[0;32mnot\u001b[0m \u001b[0;32mFalse\u001b[0m\u001b[0;34m\u001b[0m\u001b[0;34m\u001b[0m\u001b[0m\n\u001b[1;32m   1694\u001b[0m \u001b[0;34m\u001b[0m\u001b[0m\n\u001b[0;32m-> 1695\u001b[0;31m         \u001b[0mself\u001b[0m\u001b[0;34m.\u001b[0m\u001b[0m_reader\u001b[0m \u001b[0;34m=\u001b[0m \u001b[0mparsers\u001b[0m\u001b[0;34m.\u001b[0m\u001b[0mTextReader\u001b[0m\u001b[0;34m(\u001b[0m\u001b[0msrc\u001b[0m\u001b[0;34m,\u001b[0m \u001b[0;34m**\u001b[0m\u001b[0mkwds\u001b[0m\u001b[0;34m)\u001b[0m\u001b[0;34m\u001b[0m\u001b[0;34m\u001b[0m\u001b[0m\n\u001b[0m\u001b[1;32m   1696\u001b[0m \u001b[0;34m\u001b[0m\u001b[0m\n\u001b[1;32m   1697\u001b[0m         \u001b[0;31m# XXX\u001b[0m\u001b[0;34m\u001b[0m\u001b[0;34m\u001b[0m\u001b[0;34m\u001b[0m\u001b[0m\n",
            "\u001b[0;32mpandas/_libs/parsers.pyx\u001b[0m in \u001b[0;36mpandas._libs.parsers.TextReader.__cinit__\u001b[0;34m()\u001b[0m\n",
            "\u001b[0;32mpandas/_libs/parsers.pyx\u001b[0m in \u001b[0;36mpandas._libs.parsers.TextReader._setup_parser_source\u001b[0;34m()\u001b[0m\n",
            "\u001b[0;31mFileNotFoundError\u001b[0m: File b'NYC Retail Food Stores COORDINATES.csv' does not exist"
          ]
        }
      ]
    },
    {
      "metadata": {
        "id": "dRnlWSqE8McG",
        "colab_type": "text"
      },
      "cell_type": "markdown",
      "source": [
        "### 1b. Preparing Data\n",
        "\n",
        "Population of NYC is ~8 million. scikit-learn doesn't support weighted k-means cluster so instead of weighing each GPS coordinate with n (n = population in county), we have to create a list where each GPS coordinate occurs in the list n times \n"
      ]
    },
    {
      "metadata": {
        "id": "rRyUy-uZ8AuV",
        "colab_type": "code",
        "outputId": "17e86638-85fd-4eb4-8b3d-9aec4694b6fd",
        "colab": {
          "base_uri": "https://localhost:8080/",
          "height": 232
        }
      },
      "cell_type": "code",
      "source": [
        "import random\n",
        "\n",
        "big_coords_list = []\n",
        "\n",
        "for i in range(len(pop_list[0])):\n",
        "  while (pop_list[0][i] > 0):\n",
        "    big_coords_list.append([pop_list[1][i], pop_list[2][i]])\n",
        "    pop_list[0][i] -= 1\n"
      ],
      "execution_count": 0,
      "outputs": [
        {
          "output_type": "error",
          "ename": "NameError",
          "evalue": "ignored",
          "traceback": [
            "\u001b[0;31m---------------------------------------------------------------------------\u001b[0m",
            "\u001b[0;31mNameError\u001b[0m                                 Traceback (most recent call last)",
            "\u001b[0;32m<ipython-input-3-abc02d948647>\u001b[0m in \u001b[0;36m<module>\u001b[0;34m()\u001b[0m\n\u001b[1;32m      3\u001b[0m \u001b[0mbig_coords_list\u001b[0m \u001b[0;34m=\u001b[0m \u001b[0;34m[\u001b[0m\u001b[0;34m]\u001b[0m\u001b[0;34m\u001b[0m\u001b[0;34m\u001b[0m\u001b[0m\n\u001b[1;32m      4\u001b[0m \u001b[0;34m\u001b[0m\u001b[0m\n\u001b[0;32m----> 5\u001b[0;31m \u001b[0;32mfor\u001b[0m \u001b[0mi\u001b[0m \u001b[0;32min\u001b[0m \u001b[0mrange\u001b[0m\u001b[0;34m(\u001b[0m\u001b[0mlen\u001b[0m\u001b[0;34m(\u001b[0m\u001b[0mpop_list\u001b[0m\u001b[0;34m[\u001b[0m\u001b[0;36m0\u001b[0m\u001b[0;34m]\u001b[0m\u001b[0;34m)\u001b[0m\u001b[0;34m)\u001b[0m\u001b[0;34m:\u001b[0m\u001b[0;34m\u001b[0m\u001b[0;34m\u001b[0m\u001b[0m\n\u001b[0m\u001b[1;32m      6\u001b[0m   \u001b[0;32mwhile\u001b[0m \u001b[0;34m(\u001b[0m\u001b[0mpop_list\u001b[0m\u001b[0;34m[\u001b[0m\u001b[0;36m0\u001b[0m\u001b[0;34m]\u001b[0m\u001b[0;34m[\u001b[0m\u001b[0mi\u001b[0m\u001b[0;34m]\u001b[0m \u001b[0;34m>\u001b[0m \u001b[0;36m0\u001b[0m\u001b[0;34m)\u001b[0m\u001b[0;34m:\u001b[0m\u001b[0;34m\u001b[0m\u001b[0;34m\u001b[0m\u001b[0m\n\u001b[1;32m      7\u001b[0m     \u001b[0mbig_coords_list\u001b[0m\u001b[0;34m.\u001b[0m\u001b[0mappend\u001b[0m\u001b[0;34m(\u001b[0m\u001b[0;34m[\u001b[0m\u001b[0mpop_list\u001b[0m\u001b[0;34m[\u001b[0m\u001b[0;36m1\u001b[0m\u001b[0;34m]\u001b[0m\u001b[0;34m[\u001b[0m\u001b[0mi\u001b[0m\u001b[0;34m]\u001b[0m\u001b[0;34m,\u001b[0m \u001b[0mpop_list\u001b[0m\u001b[0;34m[\u001b[0m\u001b[0;36m2\u001b[0m\u001b[0;34m]\u001b[0m\u001b[0;34m[\u001b[0m\u001b[0mi\u001b[0m\u001b[0;34m]\u001b[0m\u001b[0;34m]\u001b[0m\u001b[0;34m)\u001b[0m\u001b[0;34m\u001b[0m\u001b[0;34m\u001b[0m\u001b[0m\n",
            "\u001b[0;31mNameError\u001b[0m: name 'pop_list' is not defined"
          ]
        }
      ]
    },
    {
      "metadata": {
        "id": "_ndu6oUG-bpY",
        "colab_type": "text"
      },
      "cell_type": "markdown",
      "source": [
        "## 2. Computing Ideal Store Locations using K-Means Clustering\n",
        "\n",
        "There are over 14,000 grocery stores in New York City but because many of them are within 100 feet, they have the same gps coordinates. As a result, our dataset contains 190 unique latitudes and longitudes. We thus ran the k-means clustering on the population data with k=190 to compute where the ideal grocery stores should be located. We randomly sample 1 million points of population data (out of 8 million) to limit the computation we have to do.\n",
        "\n",
        "*Takes ~6 minutes to run*"
      ]
    },
    {
      "metadata": {
        "id": "KoBj7wiP_OFX",
        "colab_type": "code",
        "colab": {}
      },
      "cell_type": "code",
      "source": [
        "import matplotlib.pyplot as plt  \n",
        "import random\n",
        "%matplotlib inline\n",
        "import numpy as np  \n",
        "from sklearn.cluster import KMeans  \n",
        "\n",
        "#random sample coordinates\n",
        "coords_list = random.sample(big_coords_list, 1000000)\n",
        "\n",
        "# put long, lat coordinate pairs here\n",
        "X = np.array(coords_list)\n",
        "\n",
        "kmeans = KMeans(n_clusters=190, max_iter = 10)  \n",
        "kmeans.fit(X) "
      ],
      "execution_count": 0,
      "outputs": []
    },
    {
      "metadata": {
        "id": "3K0j4pIU_umU",
        "colab_type": "text"
      },
      "cell_type": "markdown",
      "source": [
        "## 3. Analyzing Our Results"
      ]
    },
    {
      "metadata": {
        "id": "PPXx5FPOA5v_",
        "colab_type": "text"
      },
      "cell_type": "markdown",
      "source": [
        "Custom class for plotting line-scatter graphs to see how final analysis did"
      ]
    },
    {
      "metadata": {
        "id": "Q4hasICNA4Pv",
        "colab_type": "code",
        "colab": {}
      },
      "cell_type": "code",
      "source": [
        "import matplotlib.pyplot as plt\n",
        "\n",
        "class MakeGraph(object):\n",
        "  def __init__(self, xList, yList):\n",
        "    df = pd.DataFrame({'xVals': xList, 'yVals': yList})\n",
        "    plt.plot('xVals', 'yVals', data=df, linestyle='-', marker='o', color='black')\n",
        "    plt.xlabel('Cumulative Population Size')\n",
        "    plt.ylabel('Average Minimum Distance in Miles')\n",
        "    "
      ],
      "execution_count": 0,
      "outputs": []
    },
    {
      "metadata": {
        "id": "W0JKqlGb_6J9",
        "colab_type": "text"
      },
      "cell_type": "markdown",
      "source": [
        "### 3a. Plotting population data, k-means clusters, and actual stores\n",
        "\n",
        "\n",
        "*   Colorful dots = population data (1 million points but many effectively on top of each other)\n",
        "*   Translucent black circles = clusters (190 points)\n",
        "*   Yellow squares = actual store locations (190 points)\n",
        "\n",
        "*Takes ~1 minute to run*\n"
      ]
    },
    {
      "metadata": {
        "id": "7OPYO36YATfT",
        "colab_type": "code",
        "colab": {}
      },
      "cell_type": "code",
      "source": [
        "import matplotlib.pyplot as plt  \n",
        "import collections\n",
        "import random\n",
        "\n",
        "plt.figure(figsize=(25, 25), dpi=150)\n",
        "\n",
        "#plot population\n",
        "plt.scatter(X[:,1],X[:,0], c=kmeans.labels_, cmap='rainbow', s=10)\n",
        "\n",
        "# plot the calculated cluster centers\n",
        "plt.scatter(kmeans.cluster_centers_[:,1] ,kmeans.cluster_centers_[:,0], color='black', s = 200, alpha = 0.5)  \n",
        "\n",
        "#plot existing retail stores\n",
        "plt.scatter(store_list[1], store_list[0], s=60, color='yellow', edgecolors='black', linewidths=0.75, marker='s')"
      ],
      "execution_count": 0,
      "outputs": []
    },
    {
      "metadata": {
        "id": "9j-w_1scBN8L",
        "colab_type": "text"
      },
      "cell_type": "markdown",
      "source": [
        "### 3b. Computing Average Minimum Distance between People and 190 Computed Clusters\n",
        "\n",
        "We sample 5000 random people from our list of 8 million, find the closest store to them, and then save that result. We then compute the average distance of the closest store for our 5000 people and plot that using `MakeGraph()`\n",
        "\n",
        "*Takes about ~4 minutes*"
      ]
    },
    {
      "metadata": {
        "id": "FTx31Cy4Bx1D",
        "colab_type": "code",
        "colab": {}
      },
      "cell_type": "code",
      "source": [
        "import geopy.distance as gp\n",
        "import matplotlib.pyplot as plt\n",
        "import random\n",
        "\n",
        "\n",
        "# get 5000 random people\n",
        "coords_list_2 = random.sample(big_coords_list, 5000)\n",
        "\n",
        "x_cumpop = []\n",
        "y_avgdist = []\n",
        "\n",
        "print(x_sampled)\n",
        "\n",
        "runningSum = 0\n",
        "\n",
        "\n",
        "for i in range(len(x_sampled)):\n",
        "  longPop = coords_list_2[i][1]\n",
        "  latPop = coords_list_2[i][0]\n",
        "  coordsPop = (latPop, longPop)\n",
        "  minDistance = 1000\n",
        "  \n",
        "  for j in range(len(kmeans.cluster_centers_)):\n",
        "    longCluster = kmeans.cluster_centers_[j][1]\n",
        "    latCluster = kmeans.cluster_centers_[j][0]\n",
        "    coordsCluster = (latCluster, longCluster)\n",
        "    minDistance = min(minDistance, gp.distance(coordsCluster, coordsPop).miles)\n",
        "      \n",
        "  runningSum += minDistance\n",
        "  \n",
        "  if (i % 100 == 0):\n",
        "    x_cumpop.append(i)\n",
        "    y_avgdist.append(runningSum / (i+1))\n",
        "    print(str(i) + \",\" + str(runningSum / (i + 1)))\n",
        "\n",
        "MakeGraph(x_cumpop, y_avgdist)\n",
        "plt.title('Average Minimum Distance Between Population and Closest Cluster')\n",
        "plt.show()\n",
        "\n"
      ],
      "execution_count": 0,
      "outputs": []
    },
    {
      "metadata": {
        "id": "mO0iidzPDbC8",
        "colab_type": "text"
      },
      "cell_type": "markdown",
      "source": [
        "### 3c. Computing Average Minimum Distance between People and 190 Unique Existing Stores\n",
        "\n",
        "*Takes about ~4 minutes*"
      ]
    },
    {
      "metadata": {
        "id": "Ymc2YexsDc0z",
        "colab_type": "code",
        "colab": {}
      },
      "cell_type": "code",
      "source": [
        "import geopy.distance as gp\n",
        "import matplotlib.pyplot as plt\n",
        "import random\n",
        "\n",
        "# get 5000 random people\n",
        "coords_list_2 = random.sample(big_coords_list, 5000)\n",
        "\n",
        "x_cumpop = []\n",
        "y_avgdist = []\n",
        "\n",
        "runningSum = 0\n",
        "\n",
        "uniqueStores = list(set(zip(store_list[0],store_list[1])))\n",
        "\n",
        "for i in range(len(x_sampled)):\n",
        "  longPop = coords_list_2[i][1]\n",
        "  latPop = coords_list_2[i][0]\n",
        "  coordsPop = (latPop, longPop)\n",
        "  minDistance = 1000\n",
        "  \n",
        "  for j in range(len(uniqueStores)):\n",
        "    longCluster = uniqueStores[j][1]\n",
        "    latCluster = uniqueStores[j][0]\n",
        "    coordsCluster = (latCluster, longCluster)\n",
        "    minDistance = min(minDistance, gp.distance(coordsCluster, coordsPop).miles)\n",
        "\n",
        "  runningSum += minDistance\n",
        "  \n",
        "  if (i % 100 == 0):\n",
        "    x_cumpop.append(i)\n",
        "    y_avgdist.append(runningSum / (i+1))\n",
        "    print(str(i) + \",\" + str(runningSum / (i + 1)))\n",
        "\n",
        "MakeGraph(x_cumpop, y_avgdist)\n",
        "plt.title('Average Minimum Distance Between Population and Closest Existing Store')"
      ],
      "execution_count": 0,
      "outputs": []
    }
  ]
}